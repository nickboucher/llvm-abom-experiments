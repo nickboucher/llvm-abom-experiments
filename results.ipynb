{
 "cells": [
  {
   "cell_type": "code",
   "execution_count": 10,
   "metadata": {},
   "outputs": [
    {
     "name": "stdout",
     "output_type": "stream",
     "text": [
      "Usage: /Users/nick/.virtualenvs/abom/lib/python3.11/site-packages/ipykernel_launcher.py <binary> <hash_count>\n"
     ]
    }
   ],
   "source": [
    "#!/usr/bin/env python3\n",
    "from subprocess import run\n",
    "from random import randint\n",
    "from hashlib import shake_128\n",
    "from sys import argv, exit\n",
    "\n",
    "def main(binary: str, hash_count: int):\n",
    "    absent = 0\n",
    "    present = 0\n",
    "    for i in range(hash_count):\n",
    "        hash = shake_128(randint(0, 2**36).to_bytes(5, 'little')).hexdigest(5)[:9]\n",
    "        result = run(f'~/llvm-abom/llvm-abom-check {binary} {hash}', capture_output=True, shell=True)\n",
    "        if result.stdout.startswith(b'Present'):\n",
    "            print(f'Present: {hash}')\n",
    "            present += 1\n",
    "        elif result.stdout.startswith(b'Absent'):\n",
    "            absent += 1\n",
    "        else:\n",
    "            print(f'Error: {hash}')\n",
    "            exit(1)\n",
    "    if (present):\n",
    "        print('===\\n')\n",
    "    print(f'Absent: {absent}\\nPresent: {present}\\nError Rate: {present / hash_count:.0%}')\n",
    "\n",
    "if __name__ == '__main__':\n",
    "    if len(argv) != 3:\n",
    "        print(f'Usage: {argv[0]} <binary> <hash_count>')\n",
    "    else:\n",
    "        main(argv[1], int(argv[2]))"
   ]
  },
  {
   "cell_type": "code",
   "execution_count": 11,
   "metadata": {},
   "outputs": [
    {
     "ename": "TypeError",
     "evalue": "main() missing 1 required positional argument: 'hash_count'",
     "output_type": "error",
     "traceback": [
      "\u001b[0;31m---------------------------------------------------------------------------\u001b[0m",
      "\u001b[0;31mTypeError\u001b[0m                                 Traceback (most recent call last)",
      "Cell \u001b[0;32mIn[11], line 1\u001b[0m\n\u001b[0;32m----> 1\u001b[0m \u001b[43mmain\u001b[49m\u001b[43m(\u001b[49m\u001b[38;5;241;43m1\u001b[39;49m\u001b[43m)\u001b[49m\n",
      "\u001b[0;31mTypeError\u001b[0m: main() missing 1 required positional argument: 'hash_count'"
     ]
    }
   ],
   "source": [
    "main(1)"
   ]
  },
  {
   "cell_type": "code",
   "execution_count": 15,
   "metadata": {},
   "outputs": [],
   "source": [
    "from random import choices\n",
    "from string import ascii_lowercase\n",
    "from os import makedirs, exit\n",
    "from os.path import join\n",
    "\n",
    "def main(directory: str, count: int):\n",
    "    try:\n",
    "        makedirs(join(directory, 'src'))\n",
    "        makedirs(join(directory, 'include'))\n",
    "        makedirs(join(directory, 'bin'))\n",
    "    except FileExistsError:\n",
    "        print('Directory already exists')\n",
    "        exit(1)\n",
    "    deps = set()\n",
    "    for i in range(count):\n",
    "        while True:\n",
    "            name = ''.join(choices(ascii_lowercase, k=8))\n",
    "            if name not in deps:\n",
    "                deps += name\n",
    "                break\n",
    "        with open(join(directory, f'src/{name}.c'), 'w') as f:\n",
    "            f.write(f'void {name}() {{}}')\n",
    "        with open(join(directory, f'include/{name}.h'), 'w') as f:\n",
    "            f.write(f'#ifndef {name.upper()}_H\\n#define {name.upper()}_H\\nvoid {name}();\\n#endif')\n",
    "    with open(join(directory, f'src/abom{i}.c'), 'w') as f:\n",
    "        for dep in deps:\n",
    "            f.write(f'#include \"{dep}.h\"\\n')\n",
    "        f.write('\\nint main() {\\n   return 0;\\n}\\n')"
   ]
  },
  {
   "cell_type": "code",
   "execution_count": 16,
   "metadata": {},
   "outputs": [
    {
     "ename": "FileExistsError",
     "evalue": "[Errno 17] File exists: 'test/src'",
     "output_type": "error",
     "traceback": [
      "\u001b[0;31m---------------------------------------------------------------------------\u001b[0m",
      "\u001b[0;31mFileExistsError\u001b[0m                           Traceback (most recent call last)",
      "Cell \u001b[0;32mIn[16], line 1\u001b[0m\n\u001b[0;32m----> 1\u001b[0m \u001b[43mmain\u001b[49m\u001b[43m(\u001b[49m\u001b[38;5;124;43m'\u001b[39;49m\u001b[38;5;124;43mtest\u001b[39;49m\u001b[38;5;124;43m'\u001b[39;49m\u001b[43m,\u001b[49m\u001b[43m \u001b[49m\u001b[38;5;241;43m2\u001b[39;49m\u001b[43m)\u001b[49m\n",
      "Cell \u001b[0;32mIn[15], line 7\u001b[0m, in \u001b[0;36mmain\u001b[0;34m(directory, count)\u001b[0m\n\u001b[1;32m      6\u001b[0m \u001b[38;5;28;01mdef\u001b[39;00m \u001b[38;5;21mmain\u001b[39m(directory: \u001b[38;5;28mstr\u001b[39m, count: \u001b[38;5;28mint\u001b[39m):\n\u001b[0;32m----> 7\u001b[0m     \u001b[43mmakedirs\u001b[49m\u001b[43m(\u001b[49m\u001b[43mjoin\u001b[49m\u001b[43m(\u001b[49m\u001b[43mdirectory\u001b[49m\u001b[43m,\u001b[49m\u001b[43m \u001b[49m\u001b[38;5;124;43m'\u001b[39;49m\u001b[38;5;124;43msrc\u001b[39;49m\u001b[38;5;124;43m'\u001b[39;49m\u001b[43m)\u001b[49m\u001b[43m)\u001b[49m\n\u001b[1;32m      8\u001b[0m     makedirs(join(directory, \u001b[38;5;124m'\u001b[39m\u001b[38;5;124minclude\u001b[39m\u001b[38;5;124m'\u001b[39m))\n\u001b[1;32m      9\u001b[0m     makedirs(join(directory, \u001b[38;5;124m'\u001b[39m\u001b[38;5;124mbin\u001b[39m\u001b[38;5;124m'\u001b[39m))\n",
      "File \u001b[0;32m<frozen os>:225\u001b[0m, in \u001b[0;36mmakedirs\u001b[0;34m(name, mode, exist_ok)\u001b[0m\n",
      "\u001b[0;31mFileExistsError\u001b[0m: [Errno 17] File exists: 'test/src'"
     ]
    }
   ],
   "source": [
    "main('test', 2)"
   ]
  },
  {
   "cell_type": "code",
   "execution_count": null,
   "metadata": {},
   "outputs": [],
   "source": []
  }
 ],
 "metadata": {
  "kernelspec": {
   "display_name": "abom",
   "language": "python",
   "name": "python3"
  },
  "language_info": {
   "codemirror_mode": {
    "name": "ipython",
    "version": 3
   },
   "file_extension": ".py",
   "mimetype": "text/x-python",
   "name": "python",
   "nbconvert_exporter": "python",
   "pygments_lexer": "ipython3",
   "version": "3.11.10"
  }
 },
 "nbformat": 4,
 "nbformat_minor": 2
}
